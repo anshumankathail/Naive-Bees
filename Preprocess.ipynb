{
 "cells": [
  {
   "cell_type": "code",
   "execution_count": 16,
   "metadata": {},
   "outputs": [],
   "source": [
    "import os\n",
    "import numpy as np\n",
    "from skimage.color import rgb2gray\n",
    "from skimage.feature import hog\n",
    "from PIL import Image, UnidentifiedImageError"
   ]
  },
  {
   "cell_type": "code",
   "execution_count": null,
   "metadata": {},
   "outputs": [],
   "source": [
    "def img_to_np(img_path):\n",
    "    try:\n",
    "        img = Image.open(img_path)\n",
    "        img = img.convert(\"RGB\") # ensure img is in RGB\n",
    "        new_img = img.resize((224, 224))\n",
    "        return np.array(new_img)\n",
    "    \n",
    "    except (IOError, UnidentifiedImageError):\n",
    "        return None"
   ]
  },
  {
   "cell_type": "code",
   "execution_count": 18,
   "metadata": {},
   "outputs": [],
   "source": [
    "def row_of_features(img):\n",
    "    # 3 channel img to single row\n",
    "    color_features = img.flatten()\n",
    "\n",
    "    gray_img = rgb2gray(img)\n",
    "\n",
    "    hog_features = hog(gray_img, block_norm='L2-Hys', pixels_per_cell=(16, 16))\n",
    "\n",
    "    # combine color & hog features into a single array\n",
    "    row = np.hstack((color_features, hog_features))\n",
    "\n",
    "    return row"
   ]
  },
  {
   "cell_type": "code",
   "execution_count": 19,
   "metadata": {},
   "outputs": [],
   "source": [
    "def create_feature_matrix(folder_path):\n",
    "    list_of_arr = []\n",
    "\n",
    "    for img_name in os.listdir(folder_path):\n",
    "        img_path = os.path.join(folder_path, img_name)\n",
    "\n",
    "        np_img = img_to_np(img_path)\n",
    "\n",
    "        if np_img is None:\n",
    "            continue\n",
    "\n",
    "        row = row_of_features(np_img)\n",
    "\n",
    "        list_of_arr.append(row)\n",
    "\n",
    "        # print(f\"{img_name}\")\n",
    "\n",
    "    matrix = np.array(list_of_arr)\n",
    "\n",
    "    return matrix"
   ]
  },
  {
   "cell_type": "code",
   "execution_count": null,
   "metadata": {},
   "outputs": [],
   "source": [
    "mat1 = create_feature_matrix(\"Apis\")\n",
    "mat2 = create_feature_matrix(\"Bombus\")\n",
    "\n",
    "feature_matrix = np.vstack((mat1, mat2))"
   ]
  },
  {
   "cell_type": "code",
   "execution_count": null,
   "metadata": {},
   "outputs": [
    {
     "data": {
      "text/plain": [
       "array([[9.80000000e+01, 1.10000000e+02, 6.40000000e+01, ...,\n",
       "        6.80170804e-02, 4.14439270e-02, 8.92303597e-02],\n",
       "       [1.15000000e+02, 1.19000000e+02, 1.24000000e+02, ...,\n",
       "        1.16343880e-01, 2.02580086e-01, 1.70307977e-01],\n",
       "       [5.50000000e+01, 6.60000000e+01, 5.80000000e+01, ...,\n",
       "        2.32460583e-02, 3.44355146e-02, 4.16277736e-02],\n",
       "       ...,\n",
       "       [2.30000000e+01, 2.70000000e+01, 4.00000000e+00, ...,\n",
       "        4.22804664e-02, 1.46969240e-02, 4.37025738e-02],\n",
       "       [9.10000000e+01, 7.50000000e+01, 9.70000000e+01, ...,\n",
       "        4.77113933e-02, 2.12828883e-02, 3.49653263e-02],\n",
       "       [1.08000000e+02, 1.06000000e+02, 5.80000000e+01, ...,\n",
       "        6.83219606e-03, 8.18562182e-03, 2.77552977e-03]])"
      ]
     },
     "execution_count": 26,
     "metadata": {},
     "output_type": "execute_result"
    }
   ],
   "source": [
    "np.random.shuffle(feature_matrix) # randomly shuffle rows of matrix\n",
    "feature_matrix"
   ]
  }
 ],
 "metadata": {
  "kernelspec": {
   "display_name": "Python 3",
   "language": "python",
   "name": "python3"
  },
  "language_info": {
   "codemirror_mode": {
    "name": "ipython",
    "version": 3
   },
   "file_extension": ".py",
   "mimetype": "text/x-python",
   "name": "python",
   "nbconvert_exporter": "python",
   "pygments_lexer": "ipython3",
   "version": "3.13.0"
  }
 },
 "nbformat": 4,
 "nbformat_minor": 2
}
