{
 "cells": [
  {
   "cell_type": "code",
   "execution_count": 9,
   "metadata": {},
   "outputs": [],
   "source": [
    "import os\n",
    "import numpy as np\n",
    "from skimage.color import rgb2gray\n",
    "from skimage.feature import hog\n",
    "from PIL import Image, UnidentifiedImageError"
   ]
  },
  {
   "cell_type": "code",
   "execution_count": 10,
   "metadata": {},
   "outputs": [],
   "source": [
    "def img_to_np(img_path):\n",
    "    try:\n",
    "        img = Image.open(img_path)\n",
    "        img = img.convert(\"RGB\") # ensure img is in RGB\n",
    "        new_img = img.resize((224, 224))\n",
    "        return np.array(new_img)\n",
    "    \n",
    "    except (IOError, UnidentifiedImageError):\n",
    "        return None"
   ]
  },
  {
   "cell_type": "code",
   "execution_count": 11,
   "metadata": {},
   "outputs": [],
   "source": [
    "def row_of_features(img):\n",
    "    # 3 channel img to single row\n",
    "    color_features = img.flatten()\n",
    "\n",
    "    gray_img = rgb2gray(img)\n",
    "\n",
    "    hog_features = hog(gray_img, block_norm='L2-Hys', pixels_per_cell=(16, 16))\n",
    "\n",
    "    # combine color & hog features into a single array\n",
    "    row = np.hstack((color_features, hog_features))\n",
    "\n",
    "    return row"
   ]
  },
  {
   "cell_type": "code",
   "execution_count": 12,
   "metadata": {},
   "outputs": [],
   "source": [
    "def create_feature_matrix(folder_path):\n",
    "    list_of_arr = []\n",
    "    value = 0\n",
    "\n",
    "    if folder_path.endswith(\"Bombus\"):\n",
    "        value = 1\n",
    "\n",
    "    for img_name in os.listdir(folder_path):\n",
    "        img_path = os.path.join(folder_path, img_name)\n",
    "\n",
    "        np_img = img_to_np(img_path)\n",
    "\n",
    "        if np_img is None:\n",
    "            continue\n",
    "\n",
    "        row = row_of_features(np_img)\n",
    "\n",
    "        row = np.hstack((row, value)) # append label at the end\n",
    "\n",
    "        list_of_arr.append(row)\n",
    "\n",
    "    matrix = np.array(list_of_arr)\n",
    "\n",
    "    return matrix"
   ]
  },
  {
   "cell_type": "code",
   "execution_count": 13,
   "metadata": {},
   "outputs": [],
   "source": [
    "mat1 = create_feature_matrix(\"Apis\")\n",
    "mat2 = create_feature_matrix(\"Bombus\")\n",
    "\n",
    "feature_matrix = np.vstack((mat1, mat2))"
   ]
  },
  {
   "cell_type": "code",
   "execution_count": null,
   "metadata": {},
   "outputs": [],
   "source": [
    "np.random.shuffle(feature_matrix) # randomly shuffle rows of matrix\n",
    "np.save(\"feature_matrix.npy\", feature_matrix)"
   ]
  }
 ],
 "metadata": {
  "kernelspec": {
   "display_name": "Python 3",
   "language": "python",
   "name": "python3"
  },
  "language_info": {
   "codemirror_mode": {
    "name": "ipython",
    "version": 3
   },
   "file_extension": ".py",
   "mimetype": "text/x-python",
   "name": "python",
   "nbconvert_exporter": "python",
   "pygments_lexer": "ipython3",
   "version": "3.13.0"
  }
 },
 "nbformat": 4,
 "nbformat_minor": 2
}
