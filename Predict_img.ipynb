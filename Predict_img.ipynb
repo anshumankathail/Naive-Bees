{
 "cells": [
  {
   "cell_type": "code",
   "execution_count": null,
   "metadata": {},
   "outputs": [],
   "source": [
    "import os\n",
    "import joblib\n",
    "import importnb\n",
    "with importnb.Notebook():\n",
    "    from Create_features import img_to_np, row_of_features"
   ]
  },
  {
   "cell_type": "code",
   "execution_count": null,
   "metadata": {},
   "outputs": [],
   "source": [
    "# load necessary models\n",
    "\n",
    "ss = joblib.load(\"Models/standard_scaler.pkl\")\n",
    "pca = joblib.load(\"Models/pca.pkl\")"
   ]
  },
  {
   "cell_type": "code",
   "execution_count": null,
   "metadata": {},
   "outputs": [],
   "source": [
    "def predict_img(img_path, model):\n",
    "    model_path = os.path.join(\"Models\", f\"{model}.pkl\")\n",
    "\n",
    "    model = joblib.load(model_path)\n",
    "\n",
    "    np_img = img_to_np(img_path)\n",
    "    features = row_of_features(np_img)\n",
    "    features = features.reshape(1, -1)\n",
    "\n",
    "    features_ss = ss.transform(features)\n",
    "    features_pca = pca.transform(features_ss)\n",
    "\n",
    "    prediction = model.predict(features_pca)\n",
    "\n",
    "    if prediction == 0:\n",
    "        print(\"Genus: Apis\")\n",
    "    \n",
    "    else:\n",
    "        print(\"Genus: Bombus\")"
   ]
  },
  {
   "cell_type": "code",
   "execution_count": null,
   "metadata": {},
   "outputs": [],
   "source": [
    "img_path = r\"C:\\Users\\anshu\\Downloads\\Apis.jpg\" # Replace with your image path"
   ]
  },
  {
   "cell_type": "code",
   "execution_count": null,
   "metadata": {},
   "outputs": [],
   "source": [
    "predict_img(img_path, \"svm\")"
   ]
  }
 ],
 "metadata": {
  "kernelspec": {
   "display_name": "Python 3",
   "language": "python",
   "name": "python3"
  },
  "language_info": {
   "codemirror_mode": {
    "name": "ipython",
    "version": 3
   },
   "file_extension": ".py",
   "mimetype": "text/x-python",
   "name": "python",
   "nbconvert_exporter": "python",
   "pygments_lexer": "ipython3",
   "version": "3.13.0"
  }
 },
 "nbformat": 4,
 "nbformat_minor": 2
}
