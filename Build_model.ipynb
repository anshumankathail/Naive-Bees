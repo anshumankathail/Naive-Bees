{
 "cells": [
  {
   "cell_type": "code",
   "execution_count": null,
   "metadata": {},
   "outputs": [],
   "source": [
    "import os\n",
    "import joblib\n",
    "import xgboost\n",
    "import numpy as np\n",
    "import matplotlib.pyplot as plt\n",
    "\n",
    "from sklearn.svm import SVC\n",
    "from sklearn.decomposition import PCA\n",
    "from sklearn.naive_bayes import GaussianNB\n",
    "from sklearn.tree import DecisionTreeClassifier\n",
    "from sklearn.preprocessing import StandardScaler\n",
    "from sklearn.neighbors import KNeighborsClassifier\n",
    "from sklearn.ensemble import RandomForestClassifier\n",
    "from sklearn.linear_model import LogisticRegression\n",
    "from sklearn.model_selection import train_test_split\n",
    "from sklearn.metrics import accuracy_score, roc_curve, auc"
   ]
  },
  {
   "cell_type": "markdown",
   "metadata": {},
   "source": [
    "<h4><strong>Preprocess"
   ]
  },
  {
   "cell_type": "markdown",
   "metadata": {},
   "source": [
    "Train and test split"
   ]
  },
  {
   "cell_type": "code",
   "execution_count": null,
   "metadata": {},
   "outputs": [],
   "source": [
    "feature_matrix = np.load(\"feature_matrix.npy\")\n",
    "\n",
    "X = feature_matrix[:, :-1]\n",
    "y = feature_matrix[:, -1]\n",
    "\n",
    "X_train, X_test, y_train, y_test = train_test_split(X, y, test_size=0.3, random_state=42)"
   ]
  },
  {
   "cell_type": "markdown",
   "metadata": {},
   "source": [
    "Scale training and test features"
   ]
  },
  {
   "cell_type": "code",
   "execution_count": null,
   "metadata": {},
   "outputs": [],
   "source": [
    "ss = StandardScaler()\n",
    "\n",
    "X_train_ss = ss.fit_transform(X_train)\n",
    "X_test_ss = ss.fit_transform(X_test)"
   ]
  },
  {
   "cell_type": "markdown",
   "metadata": {},
   "source": [
    "Perform PCA"
   ]
  },
  {
   "cell_type": "code",
   "execution_count": null,
   "metadata": {},
   "outputs": [],
   "source": [
    "pca = PCA(n_components=345)\n",
    "\n",
    "X_train_pca = pca.fit_transform(X_train_ss)\n",
    "X_test_pca = pca.fit_transform(X_test_ss)"
   ]
  },
  {
   "cell_type": "markdown",
   "metadata": {},
   "source": [
    "---"
   ]
  },
  {
   "cell_type": "markdown",
   "metadata": {},
   "source": [
    "<h4><strong>Train and Test"
   ]
  },
  {
   "cell_type": "markdown",
   "metadata": {},
   "source": [
    "Apply KNN"
   ]
  },
  {
   "cell_type": "code",
   "execution_count": null,
   "metadata": {},
   "outputs": [],
   "source": [
    "knn = KNeighborsClassifier(n_neighbors=3)\n",
    "\n",
    "knn.fit(X_train_pca, y_train)\n",
    "\n",
    "y_pred_knn = knn.predict(X_test_pca)"
   ]
  },
  {
   "cell_type": "code",
   "execution_count": null,
   "metadata": {},
   "outputs": [],
   "source": [
    "print(f\"Accuracy: {accuracy_score(y_test, y_pred_knn)}\")"
   ]
  },
  {
   "cell_type": "markdown",
   "metadata": {},
   "source": [
    "Apply Naive Bayes Classifier"
   ]
  },
  {
   "cell_type": "code",
   "execution_count": null,
   "metadata": {},
   "outputs": [],
   "source": [
    "nb = GaussianNB()\n",
    "\n",
    "nb.fit(X_train_pca, y_train)\n",
    "\n",
    "y_pred_nb = nb.predict(X_test_pca)"
   ]
  },
  {
   "cell_type": "code",
   "execution_count": null,
   "metadata": {},
   "outputs": [],
   "source": [
    "print(f\"Accuracy: {accuracy_score(y_test, y_pred_nb)}\")"
   ]
  },
  {
   "cell_type": "markdown",
   "metadata": {},
   "source": [
    "Apply Logistic Regression"
   ]
  },
  {
   "cell_type": "code",
   "execution_count": null,
   "metadata": {},
   "outputs": [],
   "source": [
    "lr = LogisticRegression(solver='liblinear', max_iter=2000, C=0.01, random_state=42)\n",
    "\n",
    "lr.fit(X_train_pca, y_train)\n",
    "\n",
    "y_pred_lr = lr.predict(X_test_pca)"
   ]
  },
  {
   "cell_type": "code",
   "execution_count": null,
   "metadata": {},
   "outputs": [],
   "source": [
    "print(f\"Accuracy: {accuracy_score(y_test, y_pred_lr)}\")"
   ]
  },
  {
   "cell_type": "markdown",
   "metadata": {},
   "source": [
    "Apply Support Vector Machine"
   ]
  },
  {
   "cell_type": "code",
   "execution_count": null,
   "metadata": {},
   "outputs": [],
   "source": [
    "svm = SVC(kernel=\"rbf\", probability=True, random_state=42)\n",
    "\n",
    "svm.fit(X_train_pca, y_train)\n",
    "\n",
    "y_pred_svm = svm.predict(X_test_pca)"
   ]
  },
  {
   "cell_type": "code",
   "execution_count": null,
   "metadata": {},
   "outputs": [],
   "source": [
    "print(f\"Accuracy: {accuracy_score(y_test, y_pred_svm)}\")"
   ]
  },
  {
   "cell_type": "markdown",
   "metadata": {},
   "source": [
    "Apply Decision Tree Classifier"
   ]
  },
  {
   "cell_type": "code",
   "execution_count": null,
   "metadata": {},
   "outputs": [],
   "source": [
    "dt = DecisionTreeClassifier(random_state=42)\n",
    "\n",
    "dt.fit(X_train_pca, y_train)\n",
    "\n",
    "y_pred_dt = dt.predict(X_test_pca)"
   ]
  },
  {
   "cell_type": "code",
   "execution_count": null,
   "metadata": {},
   "outputs": [],
   "source": [
    "print(f\"Accuracy: {accuracy_score(y_test, y_pred_dt)}\")"
   ]
  },
  {
   "cell_type": "markdown",
   "metadata": {},
   "source": [
    "Apply Random Forest Classifier"
   ]
  },
  {
   "cell_type": "code",
   "execution_count": null,
   "metadata": {},
   "outputs": [],
   "source": [
    "rfc = RandomForestClassifier(n_estimators=200, random_state=42)\n",
    "\n",
    "rfc.fit(X_train_pca, y_train)\n",
    "\n",
    "y_pred_rfc = rfc.predict(X_test_pca)"
   ]
  },
  {
   "cell_type": "code",
   "execution_count": null,
   "metadata": {},
   "outputs": [],
   "source": [
    "print(f\"Accuracy: {accuracy_score(y_test, y_pred_rfc)}\")"
   ]
  },
  {
   "cell_type": "markdown",
   "metadata": {},
   "source": [
    "Apply XGBoost"
   ]
  },
  {
   "cell_type": "code",
   "execution_count": null,
   "metadata": {},
   "outputs": [],
   "source": [
    "xgb = xgboost.XGBClassifier(n_estimators=1000, learning_rate=0.001, max_depth=6, random_state=42, eval_metric=\"logloss\")\n",
    "\n",
    "xgb.fit(X_train_pca, y_train)\n",
    "\n",
    "y_pred_xgb = xgb.predict(X_test_pca)"
   ]
  },
  {
   "cell_type": "code",
   "execution_count": null,
   "metadata": {},
   "outputs": [],
   "source": [
    "print(f\"Accuracy: {accuracy_score(y_test, y_pred_xgb)}\")"
   ]
  },
  {
   "cell_type": "markdown",
   "metadata": {},
   "source": [
    "---"
   ]
  },
  {
   "cell_type": "markdown",
   "metadata": {},
   "source": [
    "<h4><strong>Evaluation"
   ]
  },
  {
   "cell_type": "markdown",
   "metadata": {},
   "source": [
    "ROC and AUC"
   ]
  },
  {
   "cell_type": "code",
   "execution_count": null,
   "metadata": {},
   "outputs": [],
   "source": [
    "# Compute ROC and AUC for KNN\n",
    "\n",
    "apis_prob_knn = knn.predict_proba(X_test_pca)[:, 0]\n",
    "\n",
    "fpr_knn, tpr_knn, _ = roc_curve(y_test, apis_prob_knn, pos_label=0)\n",
    "\n",
    "roc_auc_knn = auc(fpr_knn, tpr_knn)"
   ]
  },
  {
   "cell_type": "code",
   "execution_count": null,
   "metadata": {},
   "outputs": [],
   "source": [
    "# Compute ROC and AUC for Naive Bayes\n",
    "\n",
    "apis_prob_nb = nb.predict_proba(X_test_pca)[:, 0]\n",
    "\n",
    "fpr_nb, tpr_nb, _ = roc_curve(y_test, apis_prob_nb, pos_label=0)\n",
    "\n",
    "roc_auc_nb = auc(fpr_nb, tpr_nb)"
   ]
  },
  {
   "cell_type": "code",
   "execution_count": null,
   "metadata": {},
   "outputs": [],
   "source": [
    "# Compute ROC and AUC for Logistic Regression\n",
    "\n",
    "apis_prob_lr = lr.predict_proba(X_test_pca)[:, 0]\n",
    "\n",
    "fpr_lr, tpr_lr, _ = roc_curve(y_test, apis_prob_lr, pos_label=0)\n",
    "\n",
    "roc_auc_lr = auc(fpr_lr, tpr_lr)"
   ]
  },
  {
   "cell_type": "code",
   "execution_count": null,
   "metadata": {},
   "outputs": [],
   "source": [
    "# Compute ROC and AUC for SVM\n",
    "\n",
    "apis_prob_svm = svm.predict_proba(X_test_pca)[:, 0]\n",
    "\n",
    "fpr_svm, tpr_svm, _ = roc_curve(y_test, apis_prob_svm, pos_label=0)\n",
    "\n",
    "roc_auc_svm = auc(fpr_svm, tpr_svm)"
   ]
  },
  {
   "cell_type": "code",
   "execution_count": null,
   "metadata": {},
   "outputs": [],
   "source": [
    "# Compute ROC and AUC for Decision Tree\n",
    "\n",
    "apis_prob_dt = dt.predict_proba(X_test_pca)[:, 0]\n",
    "\n",
    "fpr_dt, tpr_dt, _ = roc_curve(y_test, apis_prob_dt, pos_label=0)\n",
    "\n",
    "roc_auc_dt = auc(fpr_dt, tpr_dt)"
   ]
  },
  {
   "cell_type": "code",
   "execution_count": null,
   "metadata": {},
   "outputs": [],
   "source": [
    "# Compute ROC and AUC for Random Forest\n",
    "\n",
    "apis_prob_rfc = rfc.predict_proba(X_test_pca)[:, 0]\n",
    "\n",
    "fpr_rfc, tpr_rfc, _ = roc_curve(y_test, apis_prob_rfc, pos_label=0)\n",
    "\n",
    "roc_auc_rfc = auc(fpr_rfc, tpr_rfc)"
   ]
  },
  {
   "cell_type": "code",
   "execution_count": null,
   "metadata": {},
   "outputs": [],
   "source": [
    "# Compute ROC and AUC for XGBoost\n",
    "\n",
    "apis_prob_xgb = xgb.predict_proba(X_test_pca)[:, 0]\n",
    "\n",
    "fpr_xgb, tpr_xgb, _ = roc_curve(y_test, apis_prob_xgb, pos_label=0)\n",
    "\n",
    "roc_auc_xgb = auc(fpr_xgb, tpr_xgb)"
   ]
  },
  {
   "cell_type": "code",
   "execution_count": null,
   "metadata": {},
   "outputs": [],
   "source": [
    "plt.figure()\n",
    "\n",
    "# plot ROC for KNN\n",
    "plt.plot(fpr_knn, tpr_knn, color=\"red\", label=f\"KNN: AUC = {roc_auc_knn:0.2f}\")\n",
    "\n",
    "# plot ROC for Naive Bayes\n",
    "plt.plot(fpr_nb, tpr_nb, color=\"purple\", label=f\"NB: AUC = {roc_auc_nb:0.2f}\")\n",
    "\n",
    "# plot ROC for Logistic Regression\n",
    "plt.plot(fpr_lr, tpr_lr, color=\"cyan\", label=f\"LR: AUC = {roc_auc_lr:0.2f}\")\n",
    "\n",
    "# plot ROC for SVM\n",
    "plt.plot(fpr_svm, tpr_svm, color=\"orange\", label=f\"SVM: AUC = {roc_auc_svm:0.2f}\")\n",
    "\n",
    "# plot ROC for Decision Tree\n",
    "plt.plot(fpr_dt, tpr_dt, color=\"brown\", label=f\"DT: AUC = {roc_auc_dt:0.2f}\")\n",
    "\n",
    "# plot ROC for Random Forest\n",
    "plt.plot(fpr_rfc, tpr_rfc, color=\"green\", label=f\"RFC: AUC = {roc_auc_rfc:0.2f}\")\n",
    "\n",
    "# plot ROC for XGBoost\n",
    "plt.plot(fpr_xgb, tpr_xgb, color=\"blue\", label=f\"XGB: AUC = {roc_auc_xgb:0.2f}\")\n",
    "\n",
    "# plot reference line\n",
    "plt.plot([0, 1], [0, 1], color=\"black\", ls='--')\n",
    "\n",
    "# label plot\n",
    "plt.legend(loc=0)\n",
    "plt.xlabel(\"False Positive Rate\")\n",
    "plt.ylabel(\"True Positive Rate\")\n",
    "plt.title(\"Receiver Operating Characteristic Curve\")\n",
    "\n",
    "plt.show()"
   ]
  },
  {
   "cell_type": "markdown",
   "metadata": {},
   "source": [
    "---"
   ]
  },
  {
   "cell_type": "markdown",
   "metadata": {},
   "source": [
    "<h4>Save models for future use"
   ]
  },
  {
   "cell_type": "code",
   "execution_count": null,
   "metadata": {},
   "outputs": [],
   "source": [
    "# save Standard Scaler\n",
    "os.makedirs(\"Models\", exist_ok=True)\n",
    "path = os.path.join(\"Models\", \"standard_scaler.pkl\")\n",
    "joblib.dump(ss, path)"
   ]
  },
  {
   "cell_type": "code",
   "execution_count": null,
   "metadata": {},
   "outputs": [],
   "source": [
    "# save PCA\n",
    "path = os.path.join(\"Models\", \"pca.pkl\")\n",
    "joblib.dump(pca, path)"
   ]
  },
  {
   "cell_type": "code",
   "execution_count": null,
   "metadata": {},
   "outputs": [],
   "source": [
    "# save KNN to disk\n",
    "path = os.path.join(\"Models\", \"knn.pkl\")\n",
    "joblib.dump(knn, path)"
   ]
  },
  {
   "cell_type": "code",
   "execution_count": null,
   "metadata": {},
   "outputs": [],
   "source": [
    "# save Naive Bayes to disk\n",
    "path = os.path.join(\"Models\", \"naive_bayes.pkl\")\n",
    "joblib.dump(nb, path)"
   ]
  },
  {
   "cell_type": "code",
   "execution_count": null,
   "metadata": {},
   "outputs": [],
   "source": [
    "# save Logistic Regression to disk\n",
    "path = os.path.join(\"Models\", \"logistic_regression.pkl\")\n",
    "joblib.dump(lr, path)"
   ]
  },
  {
   "cell_type": "code",
   "execution_count": null,
   "metadata": {},
   "outputs": [],
   "source": [
    "# save SVM to disk\n",
    "path = os.path.join(\"Models\", \"svm.pkl\")\n",
    "joblib.dump(svm, path)"
   ]
  },
  {
   "cell_type": "code",
   "execution_count": null,
   "metadata": {},
   "outputs": [],
   "source": [
    "# save Decision Tree to disk\n",
    "path = os.path.join(\"Models\", \"decision_tree.pkl\")\n",
    "joblib.dump(dt, path)"
   ]
  },
  {
   "cell_type": "code",
   "execution_count": null,
   "metadata": {},
   "outputs": [],
   "source": [
    "# save Random Forest to disk\n",
    "path = os.path.join(\"Models\", \"random_forest.pkl\")\n",
    "joblib.dump(rfc, path)"
   ]
  },
  {
   "cell_type": "code",
   "execution_count": null,
   "metadata": {},
   "outputs": [],
   "source": [
    "# save XGBoost to disk\n",
    "path = os.path.join(\"Models\", \"xgboost.pkl\")\n",
    "joblib.dump(xgb, path)"
   ]
  }
 ],
 "metadata": {
  "kernelspec": {
   "display_name": "Python 3",
   "language": "python",
   "name": "python3"
  },
  "language_info": {
   "codemirror_mode": {
    "name": "ipython",
    "version": 3
   },
   "file_extension": ".py",
   "mimetype": "text/x-python",
   "name": "python",
   "nbconvert_exporter": "python",
   "pygments_lexer": "ipython3",
   "version": "3.13.0"
  }
 },
 "nbformat": 4,
 "nbformat_minor": 2
}
