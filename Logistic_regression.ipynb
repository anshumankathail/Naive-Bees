{
 "cells": [
  {
   "cell_type": "code",
   "execution_count": null,
   "metadata": {},
   "outputs": [],
   "source": [
    "import numpy as np"
   ]
  },
  {
   "cell_type": "code",
   "execution_count": null,
   "metadata": {},
   "outputs": [],
   "source": [
    "def sigmoid(z):\n",
    "    return 1 / (1 + np.exp(-z))"
   ]
  },
  {
   "cell_type": "code",
   "execution_count": null,
   "metadata": {},
   "outputs": [],
   "source": [
    "def gradient_descent(X, y, alpha, iterations):    \n",
    "    n, k = X.shape\n",
    "\n",
    "    X = np.c_[np.ones((n, 1)), X] # Adds a col of ones at the beginning\n",
    "\n",
    "    beta = np.zeros(k + 1) # initialize beta\n",
    "\n",
    "    for i in range(iterations):\n",
    "        y_pred = sigmoid(np.dot(X, beta))\n",
    "\n",
    "        gradient = (1 / n) * np.dot(X.T, (y_pred - y))\n",
    "\n",
    "        beta -= alpha * gradient # new beta values\n",
    "\n",
    "    return beta"
   ]
  },
  {
   "cell_type": "code",
   "execution_count": null,
   "metadata": {},
   "outputs": [],
   "source": [
    "def predict(X, beta):\n",
    "    X = np.c_[np.ones((X.shape[0], 1)), X] # Adds a col of ones at the beginning\n",
    "\n",
    "    probabilites = sigmoid(np.dot(X, beta))\n",
    "    y_pred = (probabilites >= 0.5).astype(int)\n",
    "\n",
    "    return y_pred"
   ]
  }
 ],
 "metadata": {
  "kernelspec": {
   "display_name": "Python 3",
   "language": "python",
   "name": "python3"
  },
  "language_info": {
   "codemirror_mode": {
    "name": "ipython",
    "version": 3
   },
   "file_extension": ".py",
   "mimetype": "text/x-python",
   "name": "python",
   "nbconvert_exporter": "python",
   "pygments_lexer": "ipython3",
   "version": "3.13.0"
  }
 },
 "nbformat": 4,
 "nbformat_minor": 2
}
