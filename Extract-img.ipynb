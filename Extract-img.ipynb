{
 "cells": [
  {
   "cell_type": "code",
   "execution_count": null,
   "metadata": {},
   "outputs": [],
   "source": [
    "import os\n",
    "import requests\n",
    "import warnings\n",
    "import pandas as pd\n",
    "from urllib3.exceptions import InsecureRequestWarning\n"
   ]
  },
  {
   "cell_type": "code",
   "execution_count": null,
   "metadata": {},
   "outputs": [],
   "source": [
    "df = pd.read_csv(\"Bee-data.csv\")\n",
    "df"
   ]
  },
  {
   "cell_type": "code",
   "execution_count": null,
   "metadata": {},
   "outputs": [],
   "source": [
    "warnings.filterwarnings(\"ignore\", category=InsecureRequestWarning)"
   ]
  },
  {
   "cell_type": "code",
   "execution_count": null,
   "metadata": {},
   "outputs": [],
   "source": [
    "countA = countB = 1\n",
    "\n",
    "for row in df.itertuples():\n",
    "    if row.Species[0:4] == \"Apis\":\n",
    "        img_name = f\"Apis_{countA}.jpg\"\n",
    "        gene = \"Apis\"\n",
    "        countA += 1\n",
    "\n",
    "    else:\n",
    "        img_name = f\"Bombus_{countB}.jpg\"\n",
    "        gene = \"Bombus\"\n",
    "        countB += 1\n",
    "    \n",
    "    os.makedirs(f\"{gene}\", exist_ok=True)\n",
    "    img_path = os.path.join(gene, img_name)\n",
    "\n",
    "    try:\n",
    "        response = requests.get(row.Image_url, stream=True, verify=False)\n",
    "        \n",
    "        with open(img_path, \"wb\") as file:\n",
    "            for chunk in response.iter_content(1024):\n",
    "                file.write(chunk)\n",
    "\n",
    "            print(f\"Downloaded {img_name}\")\n",
    "\n",
    "    except Exception as e:\n",
    "        print(f\"Error Downloading {img_name}\")"
   ]
  }
 ],
 "metadata": {
  "kernelspec": {
   "display_name": "Python 3",
   "language": "python",
   "name": "python3"
  },
  "language_info": {
   "codemirror_mode": {
    "name": "ipython",
    "version": 3
   },
   "file_extension": ".py",
   "mimetype": "text/x-python",
   "name": "python",
   "nbconvert_exporter": "python",
   "pygments_lexer": "ipython3",
   "version": "3.13.0"
  }
 },
 "nbformat": 4,
 "nbformat_minor": 2
}
